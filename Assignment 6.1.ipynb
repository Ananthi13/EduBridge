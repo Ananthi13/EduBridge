{
 "cells": [
  {
   "cell_type": "markdown",
   "id": "objective-hebrew",
   "metadata": {},
   "source": [
    "# WEEK6: Assignment- Python OOP\n",
    "\n"
   ]
  },
  {
   "cell_type": "markdown",
   "id": "basic-shell",
   "metadata": {},
   "source": [
    "# Q1.Problem on class and object"
   ]
  },
  {
   "cell_type": "markdown",
   "id": "valued-equity",
   "metadata": {},
   "source": [
    "Task \n",
    "Write a Person class with an instance variable, age, and a constructor that takes an integer, initialAge,as a parameter. The constructor must assign initialAge to age after confirming the argument passed as initialAge is not negative;if a negative argument is passed as initialAge,the constructor should set age to 0 and print Age is not valid,setting age to 0. In addition, you must write the following instance methods: \n",
    "\n",
    "1.yearPasses() should increase the age instance variable by 1\n",
    "\n",
    "2.amlOld() should perform the following conditional actions:\n"
   ]
  },
  {
   "cell_type": "markdown",
   "id": "olympic-guyana",
   "metadata": {},
   "source": [
    "If age < 13, print You are young..\n",
    "\n",
    "If age > 13 and age < 18, print You are a teenager\n",
    "\n",
    "Otherwise, print You are old.."
   ]
  },
  {
   "cell_type": "markdown",
   "id": "biblical-jenny",
   "metadata": {},
   "source": [
    "Input Format\n",
    "The first line contains an integer,T(the number of test cases), and the T subsequent lines each contain an integer denoting the age of a Person instance.\n",
    "\n"
   ]
  },
  {
   "cell_type": "code",
   "execution_count": 3,
   "id": "varied-thread",
   "metadata": {
    "scrolled": true
   },
   "outputs": [
    {
     "name": "stdout",
     "output_type": "stream",
     "text": [
      "4\n",
      "-1\n",
      "Age is not valid,setting age to 0.\n",
      "You are young.\n",
      "\n",
      "10\n",
      "You are young.\n",
      "You are a teenager.\n",
      "\n",
      "16\n",
      "You are a teenager.\n",
      "You are old.\n",
      "\n",
      "18\n",
      "You are old.\n",
      "You are old.\n",
      "\n"
     ]
    }
   ],
   "source": [
    "class Person:\n",
    "    def __init__(self,initialAge):\n",
    "        self.age=initialAge\n",
    "        # Add some more code to run some checks on initialAge\n",
    "    def amIOld(self):\n",
    "        if self.age<0:\n",
    "            print(\"Age is not valid,setting age to 0.\")\n",
    "            self.age=0\n",
    "        elif self.age<13:\n",
    "            print(\"You are young.\")\n",
    "        elif self.age>=13 and self.age<18:\n",
    "            print(\"You are a teenager.\")\n",
    "        else:\n",
    "            print(\"You are old.\")\n",
    "        # Do some computations in here and print out the correct statement to the console\n",
    "    def yearPasses(self):\n",
    "        self.age+=1\n",
    "        # Increment the age of the person in here\n",
    "\n",
    "t = int(input())\n",
    "for i in range(0, t):\n",
    "    age = int(input())         \n",
    "    p = Person(age)  \n",
    "    p.amIOld()\n",
    "    for j in range(0, 3):\n",
    "        p.yearPasses()       \n",
    "    p.amIOld()\n",
    "    print(\"\")"
   ]
  },
  {
   "cell_type": "markdown",
   "id": "incorporate-lawyer",
   "metadata": {},
   "source": [
    "# Q2.Problem on Inheritance\n"
   ]
  },
  {
   "cell_type": "markdown",
   "id": "wooden-compiler",
   "metadata": {},
   "source": [
    "\n",
    "\n",
    "Task \n",
    "You are given two classes, Person and Student, where Person is the base class and Student is the derived \n",
    "class. Completed code for Person and a declaration for Student are provided for you in the editor. Observe that Student inherits all the properties of Person. \n",
    "Complete the Student class by writing the following: \n",
    "\n",
    "• A Student class constructor, which has 4 parameters: \n",
    "1. A string, firstName. \n",
    "2. A string, lastName. \n",
    "3. An integer, id. \n",
    "4. An integer array (or vector) of test scores, scores. \n",
    "\n",
    "\n",
    "• A char calculate() method that calculates a Student object's average and returns the grade character \n",
    "representative Of their calculated average\n"
   ]
  },
  {
   "cell_type": "markdown",
   "id": "adopted-surface",
   "metadata": {},
   "source": [
    "Grading Scale\n",
    "\n",
    "letter 'O' 90<=a<=100\n",
    "\n",
    "letter 'E' 80<=a<90\n",
    "\n",
    "letter 'A' 70<=a<80\n",
    "\n",
    "letter 'P' 55<=a<70\n",
    "\n",
    "letter 'D' 40<=a<55\n",
    "\n",
    "letter 'T' a<40"
   ]
  },
  {
   "cell_type": "markdown",
   "id": "military-mandate",
   "metadata": {},
   "source": [
    "The first line contains firstName,lastName and idNumber, separated by a space. The second line contains the number of test scores. The third line of space-separated integers describes scores ."
   ]
  },
  {
   "cell_type": "markdown",
   "id": "spiritual-yukon",
   "metadata": {},
   "source": [
    "Sample input \n",
    "\n",
    "Heraldo Memelli 8135627\n",
    "\n",
    "2\n",
    "\n",
    "100  80\n",
    "\n",
    "\n",
    "Sample output\n",
    "\n",
    "Name:Memelli,Heraldo\n",
    "\n",
    "ID:8135627\n",
    "\n",
    "Grade: 0"
   ]
  },
  {
   "cell_type": "code",
   "execution_count": 4,
   "id": "impressive-grammar",
   "metadata": {},
   "outputs": [
    {
     "name": "stdout",
     "output_type": "stream",
     "text": [
      "Heraldo Memelli 8135627\n",
      "2\n",
      "100 80\n",
      "Name: Memelli, Heraldo\n",
      "ID: 8135627\n",
      "Grade: O\n"
     ]
    }
   ],
   "source": [
    "class Person:\n",
    " # Write your code here\n",
    "    pass\n",
    "\n",
    "class Student(Person):\n",
    "    #   Class Constructor\n",
    "    #   \n",
    "    #   Parameters:\n",
    "    #   firstName - A string denoting the Person's first name.\n",
    "    #   lastName - A string denoting the Person's last name.\n",
    "    #   id - An integer denoting the Person's ID number.\n",
    "    #   scores - An array of integers denoting the Person's test scores.\n",
    "    #\n",
    "    # Write your constructor here\n",
    "    def __init__(self,firstName, lastName, idNum, scores):\n",
    "        self.firstName=firstName\n",
    "        self.lastName=lastName\n",
    "        self.idNum=idNum\n",
    "        self.scores=sum(scores)/len(scores)\n",
    "    \n",
    "\n",
    "    #   Function Name: calculate\n",
    "    def calculate(self):\n",
    "        if self.scores>=90 and self.scores<=100:\n",
    "            return 'O'\n",
    "        elif self.scores>=80 and self.scores<90:\n",
    "            return 'E'\n",
    "        elif self.scores>=70 and self.scores<80:\n",
    "            return 'A'\n",
    "        elif self.scores>=55 and self.scores<70:\n",
    "            return 'P'\n",
    "        elif self.scores>=40 and self.scores<55:\n",
    "            return 'D'\n",
    "        elif self.scores<40:\n",
    "            return 'T'\n",
    "    #   Return: A character denoting the grade.\n",
    "    #\n",
    "    # Write your function here\n",
    "    def printPerson(self):\n",
    "        print(f\"Name: {self.lastName}, {self.firstName}\")\n",
    "        print(f\"ID: {self.idNum}\")\n",
    "\n",
    "line = input().split()\n",
    "firstName = line[0]\n",
    "lastName = line[1]\n",
    "idNum = line[2]\n",
    "numScores = int(input()) # not needed for Python\n",
    "scores = list( map(int, input().split()) )\n",
    "s = Student(firstName, lastName, idNum, scores)\n",
    "s.printPerson()\n",
    "print(\"Grade:\", s.calculate())"
   ]
  },
  {
   "cell_type": "markdown",
   "id": "sitting-plaza",
   "metadata": {},
   "source": []
  }
 ],
 "metadata": {
  "kernelspec": {
   "display_name": "Python 3",
   "language": "python",
   "name": "python3"
  },
  "language_info": {
   "codemirror_mode": {
    "name": "ipython",
    "version": 3
   },
   "file_extension": ".py",
   "mimetype": "text/x-python",
   "name": "python",
   "nbconvert_exporter": "python",
   "pygments_lexer": "ipython3",
   "version": "3.6.4"
  }
 },
 "nbformat": 4,
 "nbformat_minor": 5
}
